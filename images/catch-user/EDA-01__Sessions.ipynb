{
 "cells": [
  {
   "cell_type": "markdown",
   "id": "dd65288b-134d-45df-928b-5b9b9e00741c",
   "metadata": {},
   "source": [
    "# Some preliminary work"
   ]
  },
  {
   "cell_type": "markdown",
   "id": "5310829b-3c0f-46c2-a5f8-0dbced76e7ca",
   "metadata": {},
   "source": [
    "## Libraries and data loading"
   ]
  },
  {
   "cell_type": "code",
   "execution_count": 1,
   "id": "aa66910c-b12a-40fe-970b-d52c737ef588",
   "metadata": {},
   "outputs": [],
   "source": [
    "import numpy as np\n",
    "import pandas as pd\n",
    "import matplotlib.pyplot as plt\n",
    "import seaborn as sns\n",
    "\n",
    "from tqdm.notebook import tqdm"
   ]
  },
  {
   "cell_type": "code",
   "execution_count": 2,
   "id": "5e9f1c3b-06d4-4fa1-9e44-80c0d571db32",
   "metadata": {},
   "outputs": [],
   "source": [
    "fp = \"data/dataset.json\"\n",
    "\n",
    "sessions = pd.read_json(fp)\n",
    "sessions.index.name = \"session_id\"\n",
    "\n",
    "assert sessions.index.is_unique"
   ]
  },
  {
   "cell_type": "code",
   "execution_count": 3,
   "id": "a3be4520-a54a-4d06-9864-bf835fdefc38",
   "metadata": {},
   "outputs": [
    {
     "data": {
      "text/html": [
       "<div>\n",
       "<style scoped>\n",
       "    .dataframe tbody tr th:only-of-type {\n",
       "        vertical-align: middle;\n",
       "    }\n",
       "\n",
       "    .dataframe tbody tr th {\n",
       "        vertical-align: top;\n",
       "    }\n",
       "\n",
       "    .dataframe thead th {\n",
       "        text-align: right;\n",
       "    }\n",
       "</style>\n",
       "<table border=\"1\" class=\"dataframe\">\n",
       "  <thead>\n",
       "    <tr style=\"text-align: right;\">\n",
       "      <th></th>\n",
       "      <th>browser</th>\n",
       "      <th>os</th>\n",
       "      <th>locale</th>\n",
       "      <th>user_id</th>\n",
       "      <th>gender</th>\n",
       "      <th>location</th>\n",
       "      <th>sites</th>\n",
       "      <th>time</th>\n",
       "      <th>date</th>\n",
       "    </tr>\n",
       "    <tr>\n",
       "      <th>session_id</th>\n",
       "      <th></th>\n",
       "      <th></th>\n",
       "      <th></th>\n",
       "      <th></th>\n",
       "      <th></th>\n",
       "      <th></th>\n",
       "      <th></th>\n",
       "      <th></th>\n",
       "      <th></th>\n",
       "    </tr>\n",
       "  </thead>\n",
       "  <tbody>\n",
       "    <tr>\n",
       "      <th>0</th>\n",
       "      <td>Chrome</td>\n",
       "      <td>Windows 8</td>\n",
       "      <td>de-DE</td>\n",
       "      <td>164</td>\n",
       "      <td>m</td>\n",
       "      <td>Canada/Toronto</td>\n",
       "      <td>[{'site': 'lenta.ru', 'length': 296}, {'site':...</td>\n",
       "      <td>03:57:00</td>\n",
       "      <td>2016-08-14</td>\n",
       "    </tr>\n",
       "    <tr>\n",
       "      <th>1</th>\n",
       "      <td>Chrome</td>\n",
       "      <td>Windows 10</td>\n",
       "      <td>pt-PT</td>\n",
       "      <td>99</td>\n",
       "      <td>f</td>\n",
       "      <td>Netherlands/Amsterdam</td>\n",
       "      <td>[{'site': 'windowsupdate.com', 'length': 56}, ...</td>\n",
       "      <td>13:52:00</td>\n",
       "      <td>2016-05-31</td>\n",
       "    </tr>\n",
       "    <tr>\n",
       "      <th>2</th>\n",
       "      <td>Chrome</td>\n",
       "      <td>Windows 10</td>\n",
       "      <td>bg-BG</td>\n",
       "      <td>28</td>\n",
       "      <td>m</td>\n",
       "      <td>Brazil/Rio de Janeiro</td>\n",
       "      <td>[{'site': 'slack.com', 'length': 158}, {'site'...</td>\n",
       "      <td>17:40:00</td>\n",
       "      <td>2019-04-15</td>\n",
       "    </tr>\n",
       "    <tr>\n",
       "      <th>3</th>\n",
       "      <td>Internet Explorer</td>\n",
       "      <td>Ubuntu</td>\n",
       "      <td>en-US</td>\n",
       "      <td>163</td>\n",
       "      <td>f</td>\n",
       "      <td>New Zealand/Auckland</td>\n",
       "      <td>[{'site': 'amazon.com', 'length': 168}, {'site...</td>\n",
       "      <td>20:23:00</td>\n",
       "      <td>2018-03-25</td>\n",
       "    </tr>\n",
       "    <tr>\n",
       "      <th>4</th>\n",
       "      <td>Firefox</td>\n",
       "      <td>Debian</td>\n",
       "      <td>ro-RO</td>\n",
       "      <td>177</td>\n",
       "      <td>f</td>\n",
       "      <td>New Zealand/Auckland</td>\n",
       "      <td>[{'site': 'vk.com', 'length': 43}, {'site': 'm...</td>\n",
       "      <td>01:10:00</td>\n",
       "      <td>2018-09-08</td>\n",
       "    </tr>\n",
       "    <tr>\n",
       "      <th>...</th>\n",
       "      <td>...</td>\n",
       "      <td>...</td>\n",
       "      <td>...</td>\n",
       "      <td>...</td>\n",
       "      <td>...</td>\n",
       "      <td>...</td>\n",
       "      <td>...</td>\n",
       "      <td>...</td>\n",
       "      <td>...</td>\n",
       "    </tr>\n",
       "    <tr>\n",
       "      <th>159995</th>\n",
       "      <td>Chrome</td>\n",
       "      <td>Windows 8</td>\n",
       "      <td>bg-BG</td>\n",
       "      <td>74</td>\n",
       "      <td>f</td>\n",
       "      <td>China/Shanghai</td>\n",
       "      <td>[{'site': 'amazon.com', 'length': 54}, {'site'...</td>\n",
       "      <td>22:33:00</td>\n",
       "      <td>2018-10-15</td>\n",
       "    </tr>\n",
       "    <tr>\n",
       "      <th>159996</th>\n",
       "      <td>Internet Explorer</td>\n",
       "      <td>Ubuntu</td>\n",
       "      <td>fr-FR</td>\n",
       "      <td>163</td>\n",
       "      <td>f</td>\n",
       "      <td>New Zealand/Auckland</td>\n",
       "      <td>[{'site': 'microsoft.com', 'length': 278}, {'s...</td>\n",
       "      <td>21:29:00</td>\n",
       "      <td>2016-03-23</td>\n",
       "    </tr>\n",
       "    <tr>\n",
       "      <th>159997</th>\n",
       "      <td>Chrome</td>\n",
       "      <td>Ubuntu</td>\n",
       "      <td>ja-JP</td>\n",
       "      <td>114</td>\n",
       "      <td>m</td>\n",
       "      <td>Russia/Moscow</td>\n",
       "      <td>[{'site': 'googleapis.com', 'length': 86}, {'s...</td>\n",
       "      <td>19:00:00</td>\n",
       "      <td>2019-03-03</td>\n",
       "    </tr>\n",
       "    <tr>\n",
       "      <th>159998</th>\n",
       "      <td>Safari</td>\n",
       "      <td>MacOS</td>\n",
       "      <td>it-IT</td>\n",
       "      <td>48</td>\n",
       "      <td>m</td>\n",
       "      <td>Italy/Rome</td>\n",
       "      <td>[{'site': 'live.com', 'length': 145}, {'site':...</td>\n",
       "      <td>16:44:00</td>\n",
       "      <td>2016-12-14</td>\n",
       "    </tr>\n",
       "    <tr>\n",
       "      <th>159999</th>\n",
       "      <td>Firefox</td>\n",
       "      <td>Windows 8</td>\n",
       "      <td>fr-FR</td>\n",
       "      <td>140</td>\n",
       "      <td>f</td>\n",
       "      <td>Netherlands/Amsterdam</td>\n",
       "      <td>[{'site': 'amazon.com', 'length': 89}, {'site'...</td>\n",
       "      <td>21:18:00</td>\n",
       "      <td>2016-12-04</td>\n",
       "    </tr>\n",
       "  </tbody>\n",
       "</table>\n",
       "<p>160000 rows × 9 columns</p>\n",
       "</div>"
      ],
      "text/plain": [
       "                      browser          os locale  user_id gender  \\\n",
       "session_id                                                         \n",
       "0                      Chrome   Windows 8  de-DE      164      m   \n",
       "1                      Chrome  Windows 10  pt-PT       99      f   \n",
       "2                      Chrome  Windows 10  bg-BG       28      m   \n",
       "3           Internet Explorer      Ubuntu  en-US      163      f   \n",
       "4                     Firefox      Debian  ro-RO      177      f   \n",
       "...                       ...         ...    ...      ...    ...   \n",
       "159995                 Chrome   Windows 8  bg-BG       74      f   \n",
       "159996      Internet Explorer      Ubuntu  fr-FR      163      f   \n",
       "159997                 Chrome      Ubuntu  ja-JP      114      m   \n",
       "159998                 Safari       MacOS  it-IT       48      m   \n",
       "159999                Firefox   Windows 8  fr-FR      140      f   \n",
       "\n",
       "                         location  \\\n",
       "session_id                          \n",
       "0                  Canada/Toronto   \n",
       "1           Netherlands/Amsterdam   \n",
       "2           Brazil/Rio de Janeiro   \n",
       "3            New Zealand/Auckland   \n",
       "4            New Zealand/Auckland   \n",
       "...                           ...   \n",
       "159995             China/Shanghai   \n",
       "159996       New Zealand/Auckland   \n",
       "159997              Russia/Moscow   \n",
       "159998                 Italy/Rome   \n",
       "159999      Netherlands/Amsterdam   \n",
       "\n",
       "                                                        sites      time  \\\n",
       "session_id                                                                \n",
       "0           [{'site': 'lenta.ru', 'length': 296}, {'site':...  03:57:00   \n",
       "1           [{'site': 'windowsupdate.com', 'length': 56}, ...  13:52:00   \n",
       "2           [{'site': 'slack.com', 'length': 158}, {'site'...  17:40:00   \n",
       "3           [{'site': 'amazon.com', 'length': 168}, {'site...  20:23:00   \n",
       "4           [{'site': 'vk.com', 'length': 43}, {'site': 'm...  01:10:00   \n",
       "...                                                       ...       ...   \n",
       "159995      [{'site': 'amazon.com', 'length': 54}, {'site'...  22:33:00   \n",
       "159996      [{'site': 'microsoft.com', 'length': 278}, {'s...  21:29:00   \n",
       "159997      [{'site': 'googleapis.com', 'length': 86}, {'s...  19:00:00   \n",
       "159998      [{'site': 'live.com', 'length': 145}, {'site':...  16:44:00   \n",
       "159999      [{'site': 'amazon.com', 'length': 89}, {'site'...  21:18:00   \n",
       "\n",
       "                 date  \n",
       "session_id             \n",
       "0          2016-08-14  \n",
       "1          2016-05-31  \n",
       "2          2019-04-15  \n",
       "3          2018-03-25  \n",
       "4          2018-09-08  \n",
       "...               ...  \n",
       "159995     2018-10-15  \n",
       "159996     2016-03-23  \n",
       "159997     2019-03-03  \n",
       "159998     2016-12-14  \n",
       "159999     2016-12-04  \n",
       "\n",
       "[160000 rows x 9 columns]"
      ]
     },
     "execution_count": 3,
     "metadata": {},
     "output_type": "execute_result"
    }
   ],
   "source": [
    "sessions"
   ]
  },
  {
   "cell_type": "markdown",
   "id": "15b96053-1da2-407c-ab93-3528ae2c0c7c",
   "metadata": {},
   "source": [
    "## Extract the site visits to a new dataframe"
   ]
  },
  {
   "cell_type": "code",
   "execution_count": 4,
   "id": "78f26c07-fb10-4cd3-ae64-7a81ad1ef709",
   "metadata": {},
   "outputs": [
    {
     "data": {
      "application/vnd.jupyter.widget-view+json": {
       "model_id": "1db7d8466e654d4aa0dcba9bd39f8326",
       "version_major": 2,
       "version_minor": 0
      },
      "text/plain": [
       "  0%|          | 0/160000 [00:00<?, ?it/s]"
      ]
     },
     "metadata": {},
     "output_type": "display_data"
    },
    {
     "data": {
      "text/html": [
       "<div>\n",
       "<style scoped>\n",
       "    .dataframe tbody tr th:only-of-type {\n",
       "        vertical-align: middle;\n",
       "    }\n",
       "\n",
       "    .dataframe tbody tr th {\n",
       "        vertical-align: top;\n",
       "    }\n",
       "\n",
       "    .dataframe thead th {\n",
       "        text-align: right;\n",
       "    }\n",
       "</style>\n",
       "<table border=\"1\" class=\"dataframe\">\n",
       "  <thead>\n",
       "    <tr style=\"text-align: right;\">\n",
       "      <th></th>\n",
       "      <th>session_id</th>\n",
       "      <th>site</th>\n",
       "      <th>visit_duration</th>\n",
       "      <th>is_joe</th>\n",
       "    </tr>\n",
       "  </thead>\n",
       "  <tbody>\n",
       "    <tr>\n",
       "      <th>0</th>\n",
       "      <td>0</td>\n",
       "      <td>lenta.ru</td>\n",
       "      <td>296</td>\n",
       "      <td>False</td>\n",
       "    </tr>\n",
       "    <tr>\n",
       "      <th>1</th>\n",
       "      <td>0</td>\n",
       "      <td>lenta.ru</td>\n",
       "      <td>69</td>\n",
       "      <td>False</td>\n",
       "    </tr>\n",
       "    <tr>\n",
       "      <th>2</th>\n",
       "      <td>0</td>\n",
       "      <td>vk.com</td>\n",
       "      <td>94</td>\n",
       "      <td>False</td>\n",
       "    </tr>\n",
       "    <tr>\n",
       "      <th>3</th>\n",
       "      <td>0</td>\n",
       "      <td>lenta.ru</td>\n",
       "      <td>129</td>\n",
       "      <td>False</td>\n",
       "    </tr>\n",
       "    <tr>\n",
       "      <th>4</th>\n",
       "      <td>0</td>\n",
       "      <td>wikipedia.org</td>\n",
       "      <td>70</td>\n",
       "      <td>False</td>\n",
       "    </tr>\n",
       "    <tr>\n",
       "      <th>...</th>\n",
       "      <td>...</td>\n",
       "      <td>...</td>\n",
       "      <td>...</td>\n",
       "      <td>...</td>\n",
       "    </tr>\n",
       "    <tr>\n",
       "      <th>2065868</th>\n",
       "      <td>159999</td>\n",
       "      <td>fisioterapia-online.com</td>\n",
       "      <td>143</td>\n",
       "      <td>False</td>\n",
       "    </tr>\n",
       "    <tr>\n",
       "      <th>2065869</th>\n",
       "      <td>159999</td>\n",
       "      <td>ybassets.com</td>\n",
       "      <td>124</td>\n",
       "      <td>False</td>\n",
       "    </tr>\n",
       "    <tr>\n",
       "      <th>2065870</th>\n",
       "      <td>159999</td>\n",
       "      <td>googleadservices.com</td>\n",
       "      <td>83</td>\n",
       "      <td>False</td>\n",
       "    </tr>\n",
       "    <tr>\n",
       "      <th>2065871</th>\n",
       "      <td>159999</td>\n",
       "      <td>ntvplus.tv</td>\n",
       "      <td>68</td>\n",
       "      <td>False</td>\n",
       "    </tr>\n",
       "    <tr>\n",
       "      <th>2065872</th>\n",
       "      <td>159999</td>\n",
       "      <td>facebook.net</td>\n",
       "      <td>105</td>\n",
       "      <td>False</td>\n",
       "    </tr>\n",
       "  </tbody>\n",
       "</table>\n",
       "<p>2065873 rows × 4 columns</p>\n",
       "</div>"
      ],
      "text/plain": [
       "         session_id                     site  visit_duration  is_joe\n",
       "0                 0                 lenta.ru             296   False\n",
       "1                 0                 lenta.ru              69   False\n",
       "2                 0                   vk.com              94   False\n",
       "3                 0                 lenta.ru             129   False\n",
       "4                 0            wikipedia.org              70   False\n",
       "...             ...                      ...             ...     ...\n",
       "2065868      159999  fisioterapia-online.com             143   False\n",
       "2065869      159999             ybassets.com             124   False\n",
       "2065870      159999     googleadservices.com              83   False\n",
       "2065871      159999               ntvplus.tv              68   False\n",
       "2065872      159999             facebook.net             105   False\n",
       "\n",
       "[2065873 rows x 4 columns]"
      ]
     },
     "execution_count": 4,
     "metadata": {},
     "output_type": "execute_result"
    }
   ],
   "source": [
    "site_visits = []\n",
    "\n",
    "for session_id, session in tqdm(sessions.iterrows(), total=len(sessions)):\n",
    "    for site in session[\"sites\"]:\n",
    "        site_visits.append({\n",
    "            \"session_id\": session_id,\n",
    "            \"site\": site[\"site\"],\n",
    "            \"visit_duration\": site[\"length\"],\n",
    "            \"is_joe\": session[\"user_id\"] == 0,\n",
    "        })\n",
    "        \n",
    "site_visits = pd.DataFrame(site_visits)\n",
    "site_visits"
   ]
  },
  {
   "cell_type": "code",
   "execution_count": 5,
   "id": "00886080-9c29-408f-b95e-44df61d91059",
   "metadata": {},
   "outputs": [],
   "source": [
    "from os.path import isfile\n",
    "\n",
    "fp = \"results/training.site_visits.csv.gz\"\n",
    "\n",
    "if not isfile(fp):\n",
    "    site_visits.to_csv(fp, index=False)"
   ]
  },
  {
   "cell_type": "markdown",
   "id": "79f24332-7c62-439e-bb4b-7c72a72cc9f9",
   "metadata": {},
   "source": [
    "## Some parsing on the `sessions` dataframe"
   ]
  },
  {
   "cell_type": "code",
   "execution_count": 6,
   "id": "7024abb6-5aa7-43a0-af07-eba81cfc3786",
   "metadata": {},
   "outputs": [],
   "source": [
    "from operator import itemgetter\n",
    "\n",
    "time_parts = sessions[\"time\"].str.split(\":\")\n",
    "\n",
    "sessions[\"hour\"] = time_parts.map(itemgetter(0)).astype(int)\n",
    "hour_fraction = time_parts.map(itemgetter(1)).astype(int)/60\n",
    "sessions[\"hour_frac\"] = sessions[\"hour\"] + hour_fraction\n",
    "sessions[\"hour_frac\"] = sessions[\"hour\"].round(1)\n",
    "\n",
    "sessions[\"n_sites\"] = sessions[\"sites\"].map(len)\n",
    "\n",
    "sessions[\"year\"] = sessions[\"date\"].dt.year\n",
    "sessions[\"month\"] = sessions[\"date\"].dt.month\n",
    "sessions[\"day\"] = sessions[\"date\"].dt.day\n",
    "sessions[\"weekday\"] = sessions[\"date\"].dt.strftime(\"%A\")\n",
    "\n",
    "total_session_times = site_visits.groupby(\"session_id\")[\"visit_duration\"].sum()\n",
    "sessions[\"duration\"] = sessions.index.map(total_session_times)\n",
    "sessions[\"duration_min\"] = (sessions[\"duration\"]/60).astype(int)\n",
    "\n",
    "sessions[\"is_joe\"] = sessions[\"user_id\"] == 0"
   ]
  },
  {
   "cell_type": "code",
   "execution_count": 7,
   "id": "b26e65c7-d9a9-4d25-8e4f-195059e15fc0",
   "metadata": {},
   "outputs": [],
   "source": [
    "fp = \"results/training.sessions.csv.gz\"\n",
    "\n",
    "sessions.to_csv(fp)"
   ]
  },
  {
   "cell_type": "code",
   "execution_count": 8,
   "id": "1416f36f-be43-4bf5-ae85-fea6092459bf",
   "metadata": {},
   "outputs": [],
   "source": [
    "joe_sessions = sessions.query(\"is_joe\")"
   ]
  },
  {
   "cell_type": "markdown",
   "id": "cb342f22-0edc-4f0f-8e11-8443a7b2e25f",
   "metadata": {},
   "source": [
    "# Exploratory data analysis on the training dataset"
   ]
  },
  {
   "cell_type": "code",
   "execution_count": 9,
   "id": "537b90d4-401a-4d67-a574-e3f69833d5ea",
   "metadata": {},
   "outputs": [],
   "source": [
    "sns.set_style(\"ticks\")\n",
    "sns.set_context(\"notebook\")"
   ]
  },
  {
   "cell_type": "markdown",
   "id": "3bdde2c1-f41a-46e8-bfcf-ef6fe4957924",
   "metadata": {},
   "source": [
    "## OS"
   ]
  },
  {
   "cell_type": "code",
   "execution_count": 10,
   "id": "baaee316-940a-4e0d-a40d-052be70a50f0",
   "metadata": {},
   "outputs": [],
   "source": [
    "from IPython.display import display, HTML\n",
    "\n",
    "def display_comparison(data, varname, x_order=None):\n",
    "    # *data* must have an 'is_joe\" boolean column\n",
    "    joe_data = data.query(\"is_joe\")\n",
    "    \n",
    "\n",
    "    s1 = (100 * data[varname].value_counts(normalize=True)).round(1)\n",
    "    s2 = (100 * joe_data[varname].value_counts(normalize=True)).round(1)\n",
    "\n",
    "    s1.index.name = varname\n",
    "    s2.index.name = varname\n",
    "    s1.name = \"All sessions (%)\"\n",
    "    s2.name = \"Joe sessions (%)\"\n",
    "\n",
    "    comparison = pd.concat([s1, s2], axis=1).fillna(\"\")\n",
    "    if x_order:\n",
    "        comparison = comparison.loc[x_order]\n",
    "    display(comparison)    \n",
    "\n",
    "def make_histograms(data, varname, x_order=None, show_comparison=True):\n",
    "    # *data* must have an 'is_joe\" boolean column\n",
    "    \n",
    "    if show_comparison:\n",
    "        display_comparison(data, varname, x_order)\n",
    "    \n",
    "    fig, ax = plt.subplots(1, 1, figsize=(6, 4))\n",
    "    \n",
    "    common_opts = dict(x=varname, stat=\"percent\", ax=ax)\n",
    "    \n",
    "    if x_order:\n",
    "        new_order = data[varname].map(lambda x: x_order.index(x)).sort_values().index\n",
    "        data = data.loc[new_order]\n",
    "\n",
    "    joe_data = data.query(\"is_joe\")\n",
    "    \n",
    "    sns.histplot(\n",
    "        data=joe_data,\n",
    "        color=\"Orange\",\n",
    "        label=\"Joe\",\n",
    "        **common_opts\n",
    "    )\n",
    "    \n",
    "    sns.histplot(\n",
    "        data=data,\n",
    "        label=\"All users\",\n",
    "        alpha=0.5,\n",
    "        **common_opts\n",
    "    )\n",
    "\n",
    "    ax.set_ylabel(\"Sessions (%)\")\n",
    "    ax.legend()\n",
    "    sns.despine(ax=ax)\n",
    "    return ax"
   ]
  },
  {
   "cell_type": "code",
   "execution_count": 11,
   "id": "98bb213c-c981-4931-86d7-cb1554edb37e",
   "metadata": {},
   "outputs": [
    {
     "data": {
      "text/html": [
       "<div>\n",
       "<style scoped>\n",
       "    .dataframe tbody tr th:only-of-type {\n",
       "        vertical-align: middle;\n",
       "    }\n",
       "\n",
       "    .dataframe tbody tr th {\n",
       "        vertical-align: top;\n",
       "    }\n",
       "\n",
       "    .dataframe thead th {\n",
       "        text-align: right;\n",
       "    }\n",
       "</style>\n",
       "<table border=\"1\" class=\"dataframe\">\n",
       "  <thead>\n",
       "    <tr style=\"text-align: right;\">\n",
       "      <th></th>\n",
       "      <th>All sessions (%)</th>\n",
       "      <th>Joe sessions (%)</th>\n",
       "    </tr>\n",
       "    <tr>\n",
       "      <th>os</th>\n",
       "      <th></th>\n",
       "      <th></th>\n",
       "    </tr>\n",
       "  </thead>\n",
       "  <tbody>\n",
       "    <tr>\n",
       "      <th>Windows 10</th>\n",
       "      <td>34.0</td>\n",
       "      <td>49.6</td>\n",
       "    </tr>\n",
       "    <tr>\n",
       "      <th>Windows 8</th>\n",
       "      <td>27.5</td>\n",
       "      <td></td>\n",
       "    </tr>\n",
       "    <tr>\n",
       "      <th>MacOS</th>\n",
       "      <td>17.7</td>\n",
       "      <td></td>\n",
       "    </tr>\n",
       "    <tr>\n",
       "      <th>Windows 7</th>\n",
       "      <td>8.0</td>\n",
       "      <td></td>\n",
       "    </tr>\n",
       "    <tr>\n",
       "      <th>Ubuntu</th>\n",
       "      <td>7.3</td>\n",
       "      <td>50.4</td>\n",
       "    </tr>\n",
       "    <tr>\n",
       "      <th>Debian</th>\n",
       "      <td>5.5</td>\n",
       "      <td></td>\n",
       "    </tr>\n",
       "  </tbody>\n",
       "</table>\n",
       "</div>"
      ],
      "text/plain": [
       "            All sessions (%) Joe sessions (%)\n",
       "os                                           \n",
       "Windows 10              34.0             49.6\n",
       "Windows 8               27.5                 \n",
       "MacOS                   17.7                 \n",
       "Windows 7                8.0                 \n",
       "Ubuntu                   7.3             50.4\n",
       "Debian                   5.5                 "
      ]
     },
     "metadata": {},
     "output_type": "display_data"
    },
    {
     "data": {
      "image/png": "[encoded data removed]",
      "text/plain": [
       "<Figure size 432x288 with 1 Axes>"
      ]
     },
     "metadata": {},
     "output_type": "display_data"
    }
   ],
   "source": [
    "ax = make_histograms(sessions, \"os\")\n",
    "_ = plt.xticks(rotation=90)"
   ]
  },
  {
   "cell_type": "markdown",
   "id": "4a05cb6c-5484-44ee-bcd0-7b5700966714",
   "metadata": {},
   "source": [
    "- Joe uses Ubuntu and Win10 only, in equal proportions.\n",
    "- Only ~7% of user sessions are from Ubuntu, so this sets Joes appart in some cases."
   ]
  },
  {
   "cell_type": "markdown",
   "id": "3a5ed17d-bb56-43a4-ae7a-531a2f92a86a",
   "metadata": {
    "tags": []
   },
   "source": [
    "## Browser"
   ]
  },
  {
   "cell_type": "code",
   "execution_count": 12,
   "id": "e11694af-64b3-4ae9-90c3-b13c80dc576c",
   "metadata": {},
   "outputs": [
    {
     "data": {
      "text/html": [
       "<div>\n",
       "<style scoped>\n",
       "    .dataframe tbody tr th:only-of-type {\n",
       "        vertical-align: middle;\n",
       "    }\n",
       "\n",
       "    .dataframe tbody tr th {\n",
       "        vertical-align: top;\n",
       "    }\n",
       "\n",
       "    .dataframe thead th {\n",
       "        text-align: right;\n",
       "    }\n",
       "</style>\n",
       "<table border=\"1\" class=\"dataframe\">\n",
       "  <thead>\n",
       "    <tr style=\"text-align: right;\">\n",
       "      <th></th>\n",
       "      <th>All sessions (%)</th>\n",
       "      <th>Joe sessions (%)</th>\n",
       "    </tr>\n",
       "    <tr>\n",
       "      <th>browser</th>\n",
       "      <th></th>\n",
       "      <th></th>\n",
       "    </tr>\n",
       "  </thead>\n",
       "  <tbody>\n",
       "    <tr>\n",
       "      <th>Chrome</th>\n",
       "      <td>52.2</td>\n",
       "      <td>49.8</td>\n",
       "    </tr>\n",
       "    <tr>\n",
       "      <th>Firefox</th>\n",
       "      <td>21.5</td>\n",
       "      <td>50.2</td>\n",
       "    </tr>\n",
       "    <tr>\n",
       "      <th>Safari</th>\n",
       "      <td>17.7</td>\n",
       "      <td></td>\n",
       "    </tr>\n",
       "    <tr>\n",
       "      <th>Internet Explorer</th>\n",
       "      <td>8.5</td>\n",
       "      <td></td>\n",
       "    </tr>\n",
       "  </tbody>\n",
       "</table>\n",
       "</div>"
      ],
      "text/plain": [
       "                   All sessions (%) Joe sessions (%)\n",
       "browser                                             \n",
       "Chrome                         52.2             49.8\n",
       "Firefox                        21.5             50.2\n",
       "Safari                         17.7                 \n",
       "Internet Explorer               8.5                 "
      ]
     },
     "metadata": {},
     "output_type": "display_data"
    },
    {
     "data": {
      "image/png": "[encoded data removed]",
      "text/plain": [
       "<Figure size 432x288 with 1 Axes>"
      ]
     },
     "metadata": {},
     "output_type": "display_data"
    }
   ],
   "source": [
    "ax = make_histograms(sessions, \"browser\")"
   ]
  },
  {
   "cell_type": "markdown",
   "id": "dad91d02-358b-4a6e-806f-56c27d0f04d0",
   "metadata": {},
   "source": [
    "- Joe uses Firefox and Chrome in equal proportions.\n",
    "- Only 20% of the sessions are in Firefox."
   ]
  },
  {
   "cell_type": "markdown",
   "id": "59ae4885-32ce-4557-bce9-9855696a3664",
   "metadata": {},
   "source": [
    "## OS * Browser"
   ]
  },
  {
   "cell_type": "code",
   "execution_count": 13,
   "id": "92731c77-d403-41d6-8258-b8902f601a26",
   "metadata": {},
   "outputs": [
    {
     "data": {
      "text/html": [
       "<div>\n",
       "<style scoped>\n",
       "    .dataframe tbody tr th:only-of-type {\n",
       "        vertical-align: middle;\n",
       "    }\n",
       "\n",
       "    .dataframe tbody tr th {\n",
       "        vertical-align: top;\n",
       "    }\n",
       "\n",
       "    .dataframe thead th {\n",
       "        text-align: right;\n",
       "    }\n",
       "</style>\n",
       "<table border=\"1\" class=\"dataframe\">\n",
       "  <thead>\n",
       "    <tr style=\"text-align: right;\">\n",
       "      <th></th>\n",
       "      <th>All sessions (%)</th>\n",
       "      <th>Joe sessions (%)</th>\n",
       "    </tr>\n",
       "    <tr>\n",
       "      <th>os_browser</th>\n",
       "      <th></th>\n",
       "      <th></th>\n",
       "    </tr>\n",
       "  </thead>\n",
       "  <tbody>\n",
       "    <tr>\n",
       "      <th>Win10 + Chrome</th>\n",
       "      <td>22.5</td>\n",
       "      <td>24.4</td>\n",
       "    </tr>\n",
       "    <tr>\n",
       "      <th>MacOS + Safari</th>\n",
       "      <td>17.7</td>\n",
       "      <td></td>\n",
       "    </tr>\n",
       "    <tr>\n",
       "      <th>Win8 + Chrome</th>\n",
       "      <td>16.1</td>\n",
       "      <td></td>\n",
       "    </tr>\n",
       "    <tr>\n",
       "      <th>Win10 + Firefox</th>\n",
       "      <td>8.5</td>\n",
       "      <td>25.2</td>\n",
       "    </tr>\n",
       "    <tr>\n",
       "      <th>Win8 + Firefox</th>\n",
       "      <td>7.7</td>\n",
       "      <td></td>\n",
       "    </tr>\n",
       "    <tr>\n",
       "      <th>Win7 + Chrome</th>\n",
       "      <td>5.3</td>\n",
       "      <td></td>\n",
       "    </tr>\n",
       "    <tr>\n",
       "      <th>Ubuntu + Chrome</th>\n",
       "      <td>5.2</td>\n",
       "      <td>25.4</td>\n",
       "    </tr>\n",
       "    <tr>\n",
       "      <th>Win8 + IE</th>\n",
       "      <td>3.6</td>\n",
       "      <td></td>\n",
       "    </tr>\n",
       "    <tr>\n",
       "      <th>Debian + Chrome</th>\n",
       "      <td>3.1</td>\n",
       "      <td></td>\n",
       "    </tr>\n",
       "    <tr>\n",
       "      <th>Win10 + IE</th>\n",
       "      <td>3.0</td>\n",
       "      <td></td>\n",
       "    </tr>\n",
       "    <tr>\n",
       "      <th>Win7 + Firefox</th>\n",
       "      <td>2.0</td>\n",
       "      <td></td>\n",
       "    </tr>\n",
       "    <tr>\n",
       "      <th>Ubuntu + Firefox</th>\n",
       "      <td>1.7</td>\n",
       "      <td>25.0</td>\n",
       "    </tr>\n",
       "    <tr>\n",
       "      <th>Debian + Firefox</th>\n",
       "      <td>1.6</td>\n",
       "      <td></td>\n",
       "    </tr>\n",
       "    <tr>\n",
       "      <th>Debian + IE</th>\n",
       "      <td>0.8</td>\n",
       "      <td></td>\n",
       "    </tr>\n",
       "    <tr>\n",
       "      <th>Win7 + IE</th>\n",
       "      <td>0.7</td>\n",
       "      <td></td>\n",
       "    </tr>\n",
       "    <tr>\n",
       "      <th>Ubuntu + IE</th>\n",
       "      <td>0.4</td>\n",
       "      <td></td>\n",
       "    </tr>\n",
       "  </tbody>\n",
       "</table>\n",
       "</div>"
      ],
      "text/plain": [
       "                  All sessions (%) Joe sessions (%)\n",
       "os_browser                                         \n",
       "Win10 + Chrome                22.5             24.4\n",
       "MacOS + Safari                17.7                 \n",
       "Win8 + Chrome                 16.1                 \n",
       "Win10 + Firefox                8.5             25.2\n",
       "Win8 + Firefox                 7.7                 \n",
       "Win7 + Chrome                  5.3                 \n",
       "Ubuntu + Chrome                5.2             25.4\n",
       "Win8 + IE                      3.6                 \n",
       "Debian + Chrome                3.1                 \n",
       "Win10 + IE                     3.0                 \n",
       "Win7 + Firefox                 2.0                 \n",
       "Ubuntu + Firefox               1.7             25.0\n",
       "Debian + Firefox               1.6                 \n",
       "Debian + IE                    0.8                 \n",
       "Win7 + IE                      0.7                 \n",
       "Ubuntu + IE                    0.4                 "
      ]
     },
     "metadata": {},
     "output_type": "display_data"
    },
    {
     "data": {
      "image/png": "[encoded data removed]",
      "text/plain": [
       "<Figure size 432x288 with 1 Axes>"
      ]
     },
     "metadata": {},
     "output_type": "display_data"
    }
   ],
   "source": [
    "def short_name(name):\n",
    "    return (\n",
    "        name\n",
    "        .replace(\"Windows \", \"Win\")\n",
    "        .replace(\"Internet Explorer\", \"IE\")\n",
    "    )\n",
    "\n",
    "sessions[\"os_browser\"] = \\\n",
    "    (sessions[\"os\"] + \" + \" + sessions[\"browser\"]).map(short_name)\n",
    "\n",
    "ax = make_histograms(sessions.sort_values(by=\"os_browser\"), \"os_browser\")\n",
    "_ = plt.xticks(rotation=90)"
   ]
  },
  {
   "cell_type": "markdown",
   "id": "028ca43d-44f8-4ac1-bf70-6ce66c204e3e",
   "metadata": {},
   "source": [
    "- Joe uses both Firefox and Chrome in both Win10 and Ubuntu in almost equal proportions\n"
   ]
  },
  {
   "cell_type": "markdown",
   "id": "6e415575-f0b4-41a3-bc3e-615bb70a1b0d",
   "metadata": {},
   "source": [
    "## Locale / location"
   ]
  },
  {
   "cell_type": "code",
   "execution_count": 14,
   "id": "7cb8780d-8dc4-476a-b88b-b14da0a7d0ea",
   "metadata": {},
   "outputs": [
    {
     "data": {
      "text/html": [
       "<div>\n",
       "<style scoped>\n",
       "    .dataframe tbody tr th:only-of-type {\n",
       "        vertical-align: middle;\n",
       "    }\n",
       "\n",
       "    .dataframe tbody tr th {\n",
       "        vertical-align: top;\n",
       "    }\n",
       "\n",
       "    .dataframe thead th {\n",
       "        text-align: right;\n",
       "    }\n",
       "</style>\n",
       "<table border=\"1\" class=\"dataframe\">\n",
       "  <thead>\n",
       "    <tr style=\"text-align: right;\">\n",
       "      <th></th>\n",
       "      <th>All sessions (%)</th>\n",
       "      <th>Joe sessions (%)</th>\n",
       "    </tr>\n",
       "    <tr>\n",
       "      <th>locale</th>\n",
       "      <th></th>\n",
       "      <th></th>\n",
       "    </tr>\n",
       "  </thead>\n",
       "  <tbody>\n",
       "    <tr>\n",
       "      <th>ru-RU</th>\n",
       "      <td>10.3</td>\n",
       "      <td>100.0</td>\n",
       "    </tr>\n",
       "    <tr>\n",
       "      <th>bg-BG</th>\n",
       "      <td>9.0</td>\n",
       "      <td></td>\n",
       "    </tr>\n",
       "    <tr>\n",
       "      <th>nl-NL</th>\n",
       "      <td>6.8</td>\n",
       "      <td></td>\n",
       "    </tr>\n",
       "    <tr>\n",
       "      <th>de-DE</th>\n",
       "      <td>6.5</td>\n",
       "      <td></td>\n",
       "    </tr>\n",
       "    <tr>\n",
       "      <th>en-SG</th>\n",
       "      <td>6.3</td>\n",
       "      <td></td>\n",
       "    </tr>\n",
       "    <tr>\n",
       "      <th>ja-JP</th>\n",
       "      <td>6.0</td>\n",
       "      <td></td>\n",
       "    </tr>\n",
       "    <tr>\n",
       "      <th>ro-RO</th>\n",
       "      <td>5.5</td>\n",
       "      <td></td>\n",
       "    </tr>\n",
       "    <tr>\n",
       "      <th>en-CA</th>\n",
       "      <td>5.5</td>\n",
       "      <td></td>\n",
       "    </tr>\n",
       "    <tr>\n",
       "      <th>fr-FR</th>\n",
       "      <td>5.0</td>\n",
       "      <td></td>\n",
       "    </tr>\n",
       "    <tr>\n",
       "      <th>en-NZ</th>\n",
       "      <td>4.7</td>\n",
       "      <td></td>\n",
       "    </tr>\n",
       "    <tr>\n",
       "      <th>pt-PT</th>\n",
       "      <td>4.7</td>\n",
       "      <td></td>\n",
       "    </tr>\n",
       "    <tr>\n",
       "      <th>pt-BR</th>\n",
       "      <td>4.6</td>\n",
       "      <td></td>\n",
       "    </tr>\n",
       "    <tr>\n",
       "      <th>en-GB</th>\n",
       "      <td>4.2</td>\n",
       "      <td></td>\n",
       "    </tr>\n",
       "    <tr>\n",
       "      <th>it-IT</th>\n",
       "      <td>4.2</td>\n",
       "      <td></td>\n",
       "    </tr>\n",
       "    <tr>\n",
       "      <th>es-MX</th>\n",
       "      <td>4.0</td>\n",
       "      <td></td>\n",
       "    </tr>\n",
       "    <tr>\n",
       "      <th>en-US</th>\n",
       "      <td>4.0</td>\n",
       "      <td></td>\n",
       "    </tr>\n",
       "    <tr>\n",
       "      <th>pl-PL</th>\n",
       "      <td>4.0</td>\n",
       "      <td></td>\n",
       "    </tr>\n",
       "    <tr>\n",
       "      <th>uk-UA</th>\n",
       "      <td>3.2</td>\n",
       "      <td></td>\n",
       "    </tr>\n",
       "    <tr>\n",
       "      <th>en-AU</th>\n",
       "      <td>1.5</td>\n",
       "      <td></td>\n",
       "    </tr>\n",
       "  </tbody>\n",
       "</table>\n",
       "</div>"
      ],
      "text/plain": [
       "        All sessions (%) Joe sessions (%)\n",
       "locale                                   \n",
       "ru-RU               10.3            100.0\n",
       "bg-BG                9.0                 \n",
       "nl-NL                6.8                 \n",
       "de-DE                6.5                 \n",
       "en-SG                6.3                 \n",
       "ja-JP                6.0                 \n",
       "ro-RO                5.5                 \n",
       "en-CA                5.5                 \n",
       "fr-FR                5.0                 \n",
       "en-NZ                4.7                 \n",
       "pt-PT                4.7                 \n",
       "pt-BR                4.6                 \n",
       "en-GB                4.2                 \n",
       "it-IT                4.2                 \n",
       "es-MX                4.0                 \n",
       "en-US                4.0                 \n",
       "pl-PL                4.0                 \n",
       "uk-UA                3.2                 \n",
       "en-AU                1.5                 "
      ]
     },
     "metadata": {},
     "output_type": "display_data"
    },
    {
     "data": {
      "image/png": "[encoded data removed]",
      "text/plain": [
       "<Figure size 432x288 with 1 Axes>"
      ]
     },
     "metadata": {},
     "output_type": "display_data"
    }
   ],
   "source": [
    "ax = make_histograms(sessions, \"locale\")\n",
    "_ = plt.xticks(rotation=90)"
   ]
  },
  {
   "cell_type": "code",
   "execution_count": 15,
   "id": "eb60e4ac-4889-4856-83b8-4966ff60a6b0",
   "metadata": {},
   "outputs": [
    {
     "data": {
      "text/html": [
       "<div>\n",
       "<style scoped>\n",
       "    .dataframe tbody tr th:only-of-type {\n",
       "        vertical-align: middle;\n",
       "    }\n",
       "\n",
       "    .dataframe tbody tr th {\n",
       "        vertical-align: top;\n",
       "    }\n",
       "\n",
       "    .dataframe thead th {\n",
       "        text-align: right;\n",
       "    }\n",
       "</style>\n",
       "<table border=\"1\" class=\"dataframe\">\n",
       "  <thead>\n",
       "    <tr style=\"text-align: right;\">\n",
       "      <th></th>\n",
       "      <th>All sessions (%)</th>\n",
       "      <th>Joe sessions (%)</th>\n",
       "    </tr>\n",
       "    <tr>\n",
       "      <th>location</th>\n",
       "      <th></th>\n",
       "      <th></th>\n",
       "    </tr>\n",
       "  </thead>\n",
       "  <tbody>\n",
       "    <tr>\n",
       "      <th>Russia/Moscow</th>\n",
       "      <td>8.9</td>\n",
       "      <td></td>\n",
       "    </tr>\n",
       "    <tr>\n",
       "      <th>USA/New York</th>\n",
       "      <td>7.5</td>\n",
       "      <td></td>\n",
       "    </tr>\n",
       "    <tr>\n",
       "      <th>New Zealand/Auckland</th>\n",
       "      <td>7.0</td>\n",
       "      <td></td>\n",
       "    </tr>\n",
       "    <tr>\n",
       "      <th>Singapore/Singapore</th>\n",
       "      <td>6.2</td>\n",
       "      <td>15.1</td>\n",
       "    </tr>\n",
       "    <tr>\n",
       "      <th>USA/Miami</th>\n",
       "      <td>6.0</td>\n",
       "      <td></td>\n",
       "    </tr>\n",
       "    <tr>\n",
       "      <th>USA/Chicago</th>\n",
       "      <td>5.7</td>\n",
       "      <td>23.0</td>\n",
       "    </tr>\n",
       "    <tr>\n",
       "      <th>China/Shanghai</th>\n",
       "      <td>5.5</td>\n",
       "      <td></td>\n",
       "    </tr>\n",
       "    <tr>\n",
       "      <th>Japan/Tokyo</th>\n",
       "      <td>5.3</td>\n",
       "      <td></td>\n",
       "    </tr>\n",
       "    <tr>\n",
       "      <th>France/Paris</th>\n",
       "      <td>5.3</td>\n",
       "      <td>39.6</td>\n",
       "    </tr>\n",
       "    <tr>\n",
       "      <th>Italy/Rome</th>\n",
       "      <td>4.9</td>\n",
       "      <td></td>\n",
       "    </tr>\n",
       "    <tr>\n",
       "      <th>Malaysia/Kuala Lumpur</th>\n",
       "      <td>4.8</td>\n",
       "      <td></td>\n",
       "    </tr>\n",
       "    <tr>\n",
       "      <th>Netherlands/Amsterdam</th>\n",
       "      <td>4.6</td>\n",
       "      <td></td>\n",
       "    </tr>\n",
       "    <tr>\n",
       "      <th>Spain/Madrid</th>\n",
       "      <td>4.2</td>\n",
       "      <td></td>\n",
       "    </tr>\n",
       "    <tr>\n",
       "      <th>UK/London</th>\n",
       "      <td>4.1</td>\n",
       "      <td></td>\n",
       "    </tr>\n",
       "    <tr>\n",
       "      <th>Germany/Berlin</th>\n",
       "      <td>3.7</td>\n",
       "      <td></td>\n",
       "    </tr>\n",
       "    <tr>\n",
       "      <th>India/Delhi</th>\n",
       "      <td>3.7</td>\n",
       "      <td></td>\n",
       "    </tr>\n",
       "    <tr>\n",
       "      <th>USA/San Francisco</th>\n",
       "      <td>3.6</td>\n",
       "      <td></td>\n",
       "    </tr>\n",
       "    <tr>\n",
       "      <th>Canada/Toronto</th>\n",
       "      <td>3.5</td>\n",
       "      <td>22.2</td>\n",
       "    </tr>\n",
       "    <tr>\n",
       "      <th>Brazil/Rio de Janeiro</th>\n",
       "      <td>2.3</td>\n",
       "      <td></td>\n",
       "    </tr>\n",
       "    <tr>\n",
       "      <th>Australia/Sydney</th>\n",
       "      <td>1.8</td>\n",
       "      <td></td>\n",
       "    </tr>\n",
       "    <tr>\n",
       "      <th>Canada/Vancouver</th>\n",
       "      <td>1.6</td>\n",
       "      <td></td>\n",
       "    </tr>\n",
       "  </tbody>\n",
       "</table>\n",
       "</div>"
      ],
      "text/plain": [
       "                       All sessions (%) Joe sessions (%)\n",
       "location                                                \n",
       "Russia/Moscow                       8.9                 \n",
       "USA/New York                        7.5                 \n",
       "New Zealand/Auckland                7.0                 \n",
       "Singapore/Singapore                 6.2             15.1\n",
       "USA/Miami                           6.0                 \n",
       "USA/Chicago                         5.7             23.0\n",
       "China/Shanghai                      5.5                 \n",
       "Japan/Tokyo                         5.3                 \n",
       "France/Paris                        5.3             39.6\n",
       "Italy/Rome                          4.9                 \n",
       "Malaysia/Kuala Lumpur               4.8                 \n",
       "Netherlands/Amsterdam               4.6                 \n",
       "Spain/Madrid                        4.2                 \n",
       "UK/London                           4.1                 \n",
       "Germany/Berlin                      3.7                 \n",
       "India/Delhi                         3.7                 \n",
       "USA/San Francisco                   3.6                 \n",
       "Canada/Toronto                      3.5             22.2\n",
       "Brazil/Rio de Janeiro               2.3                 \n",
       "Australia/Sydney                    1.8                 \n",
       "Canada/Vancouver                    1.6                 "
      ]
     },
     "metadata": {},
     "output_type": "display_data"
    },
    {
     "data": {
      "image/png": "[encoded data removed]",
      "text/plain": [
       "<Figure size 432x288 with 1 Axes>"
      ]
     },
     "metadata": {},
     "output_type": "display_data"
    }
   ],
   "source": [
    "ax = make_histograms(sessions, \"location\")\n",
    "_ = plt.xticks(rotation=90)"
   ]
  },
  {
   "cell_type": "markdown",
   "id": "a538c5ff-1dcd-4ba4-b3ad-fbd68a05d98f",
   "metadata": {},
   "source": [
    "- Users might have multiple locales. Joe always uses the most common one: `ru-RU`\n",
    "- Joe browses from Paris 40% of the time, but also from Chicago, Toronto and Singapore."
   ]
  },
  {
   "cell_type": "markdown",
   "id": "116a4745-3995-4ce9-a145-25a6506ef1b9",
   "metadata": {},
   "source": [
    "## Gender"
   ]
  },
  {
   "cell_type": "code",
   "execution_count": 16,
   "id": "f2f72eb7-0d1b-4e99-b01c-2f138f7ea998",
   "metadata": {},
   "outputs": [
    {
     "data": {
      "text/plain": [
       "m    64.0\n",
       "f    36.0\n",
       "Name: gender, dtype: float64"
      ]
     },
     "execution_count": 16,
     "metadata": {},
     "output_type": "execute_result"
    }
   ],
   "source": [
    "100 * sessions[\"gender\"].value_counts(normalize=True)"
   ]
  },
  {
   "cell_type": "code",
   "execution_count": 17,
   "id": "d9473b21-bcec-4d12-a965-170bd23e4257",
   "metadata": {},
   "outputs": [
    {
     "data": {
      "text/plain": [
       "m    800\n",
       "Name: gender, dtype: int64"
      ]
     },
     "execution_count": 17,
     "metadata": {},
     "output_type": "execute_result"
    }
   ],
   "source": [
    "joe_sessions[\"gender\"].value_counts()"
   ]
  },
  {
   "cell_type": "markdown",
   "id": "731cf674-79d1-4ae0-a9fa-025ca43627f7",
   "metadata": {},
   "source": [
    "- Most users are male, like Joe."
   ]
  },
  {
   "cell_type": "markdown",
   "id": "fab39e1e-02f3-48a9-b9a0-f23ee265d07e",
   "metadata": {},
   "source": [
    "## Session dates (year, month, day, weekday)"
   ]
  },
  {
   "cell_type": "code",
   "execution_count": 18,
   "id": "cd0f44b5-76b3-46e7-8e00-1f7d3fceeed2",
   "metadata": {},
   "outputs": [
    {
     "data": {
      "text/html": [
       "<div>\n",
       "<style scoped>\n",
       "    .dataframe tbody tr th:only-of-type {\n",
       "        vertical-align: middle;\n",
       "    }\n",
       "\n",
       "    .dataframe tbody tr th {\n",
       "        vertical-align: top;\n",
       "    }\n",
       "\n",
       "    .dataframe thead th {\n",
       "        text-align: right;\n",
       "    }\n",
       "</style>\n",
       "<table border=\"1\" class=\"dataframe\">\n",
       "  <thead>\n",
       "    <tr style=\"text-align: right;\">\n",
       "      <th></th>\n",
       "      <th>All sessions (%)</th>\n",
       "      <th>Joe sessions (%)</th>\n",
       "    </tr>\n",
       "    <tr>\n",
       "      <th>year_cat</th>\n",
       "      <th></th>\n",
       "      <th></th>\n",
       "    </tr>\n",
       "  </thead>\n",
       "  <tbody>\n",
       "    <tr>\n",
       "      <th>2016</th>\n",
       "      <td>29.4</td>\n",
       "      <td>30.1</td>\n",
       "    </tr>\n",
       "    <tr>\n",
       "      <th>2017</th>\n",
       "      <td>30.5</td>\n",
       "      <td>30.0</td>\n",
       "    </tr>\n",
       "    <tr>\n",
       "      <th>2018</th>\n",
       "      <td>30.5</td>\n",
       "      <td>30.0</td>\n",
       "    </tr>\n",
       "    <tr>\n",
       "      <th>2019</th>\n",
       "      <td>9.7</td>\n",
       "      <td>9.9</td>\n",
       "    </tr>\n",
       "  </tbody>\n",
       "</table>\n",
       "</div>"
      ],
      "text/plain": [
       "          All sessions (%)  Joe sessions (%)\n",
       "year_cat                                    \n",
       "2016                  29.4              30.1\n",
       "2017                  30.5              30.0\n",
       "2018                  30.5              30.0\n",
       "2019                   9.7               9.9"
      ]
     },
     "metadata": {},
     "output_type": "display_data"
    },
    {
     "data": {
      "image/png": "[encoded data removed]",
      "text/plain": [
       "<Figure size 432x288 with 1 Axes>"
      ]
     },
     "metadata": {},
     "output_type": "display_data"
    }
   ],
   "source": [
    "sessions[\"year_cat\"] = sessions[\"year\"].astype(str)\n",
    "\n",
    "ax = make_histograms(\n",
    "    sessions,\n",
    "    \"year_cat\",\n",
    "    x_order=[\"2016\", \"2017\", \"2018\", \"2019\"]\n",
    ")\n",
    "\n",
    "_ = ax.set_xlabel(\"Year\")"
   ]
  },
  {
   "cell_type": "code",
   "execution_count": 19,
   "id": "760a0005-ec12-43bf-931f-feb6f5bd4096",
   "metadata": {},
   "outputs": [
    {
     "data": {
      "text/html": [
       "<div>\n",
       "<style scoped>\n",
       "    .dataframe tbody tr th:only-of-type {\n",
       "        vertical-align: middle;\n",
       "    }\n",
       "\n",
       "    .dataframe tbody tr th {\n",
       "        vertical-align: top;\n",
       "    }\n",
       "\n",
       "    .dataframe thead th {\n",
       "        text-align: right;\n",
       "    }\n",
       "</style>\n",
       "<table border=\"1\" class=\"dataframe\">\n",
       "  <thead>\n",
       "    <tr style=\"text-align: right;\">\n",
       "      <th></th>\n",
       "      <th>All sessions (%)</th>\n",
       "      <th>Joe sessions (%)</th>\n",
       "    </tr>\n",
       "    <tr>\n",
       "      <th>month_cat</th>\n",
       "      <th></th>\n",
       "      <th></th>\n",
       "    </tr>\n",
       "  </thead>\n",
       "  <tbody>\n",
       "    <tr>\n",
       "      <th>1</th>\n",
       "      <td>9.2</td>\n",
       "      <td>9.1</td>\n",
       "    </tr>\n",
       "    <tr>\n",
       "      <th>2</th>\n",
       "      <td>9.4</td>\n",
       "      <td>8.9</td>\n",
       "    </tr>\n",
       "    <tr>\n",
       "      <th>3</th>\n",
       "      <td>10.3</td>\n",
       "      <td>10.6</td>\n",
       "    </tr>\n",
       "    <tr>\n",
       "      <th>4</th>\n",
       "      <td>9.4</td>\n",
       "      <td>9.1</td>\n",
       "    </tr>\n",
       "    <tr>\n",
       "      <th>5</th>\n",
       "      <td>8.1</td>\n",
       "      <td>7.9</td>\n",
       "    </tr>\n",
       "    <tr>\n",
       "      <th>6</th>\n",
       "      <td>7.5</td>\n",
       "      <td>7.6</td>\n",
       "    </tr>\n",
       "    <tr>\n",
       "      <th>7</th>\n",
       "      <td>7.8</td>\n",
       "      <td>7.8</td>\n",
       "    </tr>\n",
       "    <tr>\n",
       "      <th>8</th>\n",
       "      <td>7.7</td>\n",
       "      <td>8.1</td>\n",
       "    </tr>\n",
       "    <tr>\n",
       "      <th>9</th>\n",
       "      <td>7.5</td>\n",
       "      <td>7.5</td>\n",
       "    </tr>\n",
       "    <tr>\n",
       "      <th>10</th>\n",
       "      <td>7.8</td>\n",
       "      <td>8.0</td>\n",
       "    </tr>\n",
       "    <tr>\n",
       "      <th>11</th>\n",
       "      <td>7.5</td>\n",
       "      <td>7.6</td>\n",
       "    </tr>\n",
       "    <tr>\n",
       "      <th>12</th>\n",
       "      <td>7.7</td>\n",
       "      <td>7.8</td>\n",
       "    </tr>\n",
       "  </tbody>\n",
       "</table>\n",
       "</div>"
      ],
      "text/plain": [
       "           All sessions (%)  Joe sessions (%)\n",
       "month_cat                                    \n",
       "1                       9.2               9.1\n",
       "2                       9.4               8.9\n",
       "3                      10.3              10.6\n",
       "4                       9.4               9.1\n",
       "5                       8.1               7.9\n",
       "6                       7.5               7.6\n",
       "7                       7.8               7.8\n",
       "8                       7.7               8.1\n",
       "9                       7.5               7.5\n",
       "10                      7.8               8.0\n",
       "11                      7.5               7.6\n",
       "12                      7.7               7.8"
      ]
     },
     "metadata": {},
     "output_type": "display_data"
    },
    {
     "data": {
      "image/png": "[encoded data removed]",
      "text/plain": [
       "<Figure size 432x288 with 1 Axes>"
      ]
     },
     "metadata": {},
     "output_type": "display_data"
    }
   ],
   "source": [
    "sessions[\"month_cat\"] = sessions[\"month\"].astype(str)\n",
    "\n",
    "ax = make_histograms(\n",
    "    sessions,\n",
    "    \"month_cat\",\n",
    "    x_order=[str(m) for m in np.arange(1, 13)]\n",
    ")\n",
    "_ = ax.set_xlabel(\"Month\")"
   ]
  },
  {
   "cell_type": "code",
   "execution_count": 20,
   "id": "91fc5428-4ffb-48bb-9a8e-1d8cacc7268e",
   "metadata": {},
   "outputs": [
    {
     "data": {
      "image/png": "[encoded data removed]",
      "text/plain": [
       "<Figure size 432x288 with 1 Axes>"
      ]
     },
     "metadata": {},
     "output_type": "display_data"
    }
   ],
   "source": [
    "sessions[\"day_cat\"] = sessions[\"day\"].astype(str)\n",
    "\n",
    "ax = make_histograms(\n",
    "    sessions,\n",
    "    \"day_cat\",\n",
    "    x_order=[str(d) for d in np.arange(1, 32)],\n",
    "    show_comparison=False,\n",
    ")\n",
    "\n",
    "ax.set_xlabel(\"Day of the month\", labelpad=10)\n",
    "_ = plt.xticks(rotation=90)"
   ]
  },
  {
   "cell_type": "code",
   "execution_count": 21,
   "id": "ff4d89e2-8624-4e2c-b19e-92a2e60875cf",
   "metadata": {},
   "outputs": [
    {
     "data": {
      "text/html": [
       "<div>\n",
       "<style scoped>\n",
       "    .dataframe tbody tr th:only-of-type {\n",
       "        vertical-align: middle;\n",
       "    }\n",
       "\n",
       "    .dataframe tbody tr th {\n",
       "        vertical-align: top;\n",
       "    }\n",
       "\n",
       "    .dataframe thead th {\n",
       "        text-align: right;\n",
       "    }\n",
       "</style>\n",
       "<table border=\"1\" class=\"dataframe\">\n",
       "  <thead>\n",
       "    <tr style=\"text-align: right;\">\n",
       "      <th></th>\n",
       "      <th>All sessions (%)</th>\n",
       "      <th>Joe sessions (%)</th>\n",
       "    </tr>\n",
       "    <tr>\n",
       "      <th>weekday</th>\n",
       "      <th></th>\n",
       "      <th></th>\n",
       "    </tr>\n",
       "  </thead>\n",
       "  <tbody>\n",
       "    <tr>\n",
       "      <th>Monday</th>\n",
       "      <td>14.3</td>\n",
       "      <td>14.9</td>\n",
       "    </tr>\n",
       "    <tr>\n",
       "      <th>Tuesday</th>\n",
       "      <td>14.3</td>\n",
       "      <td>15.0</td>\n",
       "    </tr>\n",
       "    <tr>\n",
       "      <th>Wednesday</th>\n",
       "      <td>14.2</td>\n",
       "      <td>13.8</td>\n",
       "    </tr>\n",
       "    <tr>\n",
       "      <th>Thursday</th>\n",
       "      <td>14.3</td>\n",
       "      <td>14.8</td>\n",
       "    </tr>\n",
       "    <tr>\n",
       "      <th>Friday</th>\n",
       "      <td>14.3</td>\n",
       "      <td>13.4</td>\n",
       "    </tr>\n",
       "    <tr>\n",
       "      <th>Saturday</th>\n",
       "      <td>14.3</td>\n",
       "      <td>14.5</td>\n",
       "    </tr>\n",
       "    <tr>\n",
       "      <th>Sunday</th>\n",
       "      <td>14.3</td>\n",
       "      <td>13.8</td>\n",
       "    </tr>\n",
       "  </tbody>\n",
       "</table>\n",
       "</div>"
      ],
      "text/plain": [
       "           All sessions (%)  Joe sessions (%)\n",
       "weekday                                      \n",
       "Monday                 14.3              14.9\n",
       "Tuesday                14.3              15.0\n",
       "Wednesday              14.2              13.8\n",
       "Thursday               14.3              14.8\n",
       "Friday                 14.3              13.4\n",
       "Saturday               14.3              14.5\n",
       "Sunday                 14.3              13.8"
      ]
     },
     "metadata": {},
     "output_type": "display_data"
    },
    {
     "data": {
      "image/png": "[encoded data removed]",
      "text/plain": [
       "<Figure size 432x288 with 1 Axes>"
      ]
     },
     "metadata": {},
     "output_type": "display_data"
    }
   ],
   "source": [
    "import calendar\n",
    "\n",
    "ax = make_histograms(\n",
    "    sessions,\n",
    "    \"weekday\",\n",
    "    x_order=list(calendar.day_name)\n",
    ")\n",
    "_ = plt.xticks(rotation=90)"
   ]
  },
  {
   "cell_type": "markdown",
   "id": "9e0ae782-56fa-48c4-b75a-a563302299a5",
   "metadata": {},
   "source": [
    "- Session years, months, days and weekdays look the same for Joe as for other users."
   ]
  },
  {
   "cell_type": "markdown",
   "id": "00712b9d-28f3-4a58-97c7-1ae3869a1e25",
   "metadata": {},
   "source": [
    "## Session hours"
   ]
  },
  {
   "cell_type": "code",
   "execution_count": 22,
   "id": "fca59e38-8066-45a1-bb8e-de7867cd4366",
   "metadata": {},
   "outputs": [
    {
     "data": {
      "image/png": "[encoded data removed]",
      "text/plain": [
       "<Figure size 432x288 with 1 Axes>"
      ]
     },
     "metadata": {},
     "output_type": "display_data"
    }
   ],
   "source": [
    "sns.set_style(\"ticks\")\n",
    "\n",
    "bins = np.arange(0, 25)\n",
    "\n",
    "ax = sns.histplot(\n",
    "    data=sessions,\n",
    "    x=\"hour\",\n",
    "    stat=\"percent\",\n",
    "    label=\"All users\",\n",
    "    bins=bins,\n",
    ")\n",
    "\n",
    "sns.histplot(\n",
    "    data=joe_sessions,\n",
    "    x=\"hour\",\n",
    "    stat=\"percent\",\n",
    "    label=\"Joe\",\n",
    "    color=\"Orange\",\n",
    "    alpha=0.5,\n",
    "    bins=bins,\n",
    ")\n",
    "\n",
    "ax.legend(loc=\"upper right\")\n",
    "\n",
    "ax.set_xticks(np.arange(24) + 0.5)\n",
    "ax.set_xticklabels(np.arange(24))\n",
    "plt.xticks(rotation=90)\n",
    "\n",
    "for hour in [0, 6, 12, 18]:\n",
    "    ax.axvline(hour, color=\"k\")\n",
    "    \n",
    "offset = 0.5\n",
    "ax.text(0 + offset, 1, \"night\", ha=\"left\")\n",
    "ax.text(6 + offset, 1, \"morning\", ha=\"left\")\n",
    "ax.text(12 + offset, 1, \"afternoon\", ha=\"left\")\n",
    "ax.text(18 + offset, 1, \"evening\", ha=\"left\")\n",
    "\n",
    "sns.despine(left=True)\n",
    "_ = ax.set_xlabel(\"Session hour\")"
   ]
  },
  {
   "cell_type": "markdown",
   "id": "8522efb3-3823-4a91-9aa7-3bf17ae8f327",
   "metadata": {},
   "source": [
    "- Joe might start a session at any moment of the day: night/morning/afternoon/evening\n",
    "- Joe never starts a session at some particular hours: 6 to 9, 12, 15, 21 to 0. This could be informative."
   ]
  },
  {
   "cell_type": "markdown",
   "id": "0505c71a-26f3-4a42-953f-6dee71cd2fc5",
   "metadata": {
    "tags": []
   },
   "source": [
    "## Session duration in minutes"
   ]
  },
  {
   "cell_type": "code",
   "execution_count": 23,
   "id": "5e84ce0e-dfcd-4a83-905f-432fd032bbc9",
   "metadata": {},
   "outputs": [
    {
     "data": {
      "text/plain": [
       "min     0\n",
       "max    64\n",
       "Name: duration_min, dtype: int64"
      ]
     },
     "execution_count": 23,
     "metadata": {},
     "output_type": "execute_result"
    }
   ],
   "source": [
    "sessions[\"duration_min\"].agg([min, max])"
   ]
  },
  {
   "cell_type": "code",
   "execution_count": 24,
   "id": "94b717f0-98ca-43e2-b60b-9b7965ea63e6",
   "metadata": {},
   "outputs": [
    {
     "data": {
      "image/png": "[encoded data removed]",
      "text/plain": [
       "<Figure size 432x288 with 1 Axes>"
      ]
     },
     "metadata": {},
     "output_type": "display_data"
    }
   ],
   "source": [
    "bins = np.arange(1, 70, step=2.5)\n",
    "\n",
    "ax = sns.histplot(\n",
    "    data=sessions,\n",
    "    x=\"duration_min\",\n",
    "    stat=\"percent\",\n",
    "    label=\"All users\",\n",
    "    bins=bins,\n",
    ")\n",
    "\n",
    "sns.histplot(\n",
    "    data=joe_sessions,\n",
    "    x=\"duration_min\",\n",
    "    stat=\"percent\",\n",
    "    label=\"Joe\",\n",
    "    color=\"Orange\",\n",
    "    alpha=0.5,\n",
    "    bins=bins,\n",
    ")\n",
    "\n",
    "ax.legend()\n",
    "ax.set_xticks(np.arange(0, 70, step=10))\n",
    "sns.despine(ax=ax)\n",
    "\n",
    "_ = ax.set_xlabel(\"Session duration (min)\")"
   ]
  },
  {
   "cell_type": "markdown",
   "id": "734aa20e-37a1-40fa-896a-323ea85211b7",
   "metadata": {},
   "source": [
    "- Joe sessions' duration are distributed like other users: sessions last around 30 minutes with some variation, almost always between 10 and 50 minutes."
   ]
  },
  {
   "cell_type": "markdown",
   "id": "8e6db385-afbe-4e2f-ac1f-c92eef62d27f",
   "metadata": {},
   "source": [
    "## Number of sites visited in a session"
   ]
  },
  {
   "cell_type": "code",
   "execution_count": 25,
   "id": "6060a2be-66c6-4d5a-bdcd-e6c2a0e180fd",
   "metadata": {},
   "outputs": [
    {
     "data": {
      "text/plain": [
       "min     1\n",
       "max    15\n",
       "Name: n_sites, dtype: int64"
      ]
     },
     "execution_count": 25,
     "metadata": {},
     "output_type": "execute_result"
    }
   ],
   "source": [
    "sessions[\"n_sites\"].agg([min, max])"
   ]
  },
  {
   "cell_type": "code",
   "execution_count": 26,
   "id": "ad61c0f8-5acd-4dcd-8c26-a86744b5b7f0",
   "metadata": {},
   "outputs": [
    {
     "data": {
      "image/png": "[encoded data removed]",
      "text/plain": [
       "<Figure size 432x288 with 1 Axes>"
      ]
     },
     "metadata": {},
     "output_type": "display_data"
    }
   ],
   "source": [
    "sns.set_style(\"ticks\")\n",
    "\n",
    "bins = np.arange(1, 16)\n",
    "\n",
    "ax = sns.histplot(\n",
    "    data=sessions,\n",
    "    x=\"n_sites\",\n",
    "    stat=\"percent\",\n",
    "    label=\"All users\",\n",
    "    bins=bins,\n",
    ")\n",
    "\n",
    "sns.histplot(\n",
    "    data=joe_sessions,\n",
    "    x=\"n_sites\",\n",
    "    stat=\"percent\",\n",
    "    label=\"Joe\",\n",
    "    color=\"Orange\",\n",
    "    alpha=0.5,\n",
    "    bins=bins,\n",
    ")\n",
    "\n",
    "ax.set_xticks(np.arange(1, 16) - 0.5)\n",
    "ax.set_xticklabels(np.arange(1, 16))\n",
    "ax.legend()\n",
    "\n",
    "sns.despine(ax=ax)\n",
    "\n",
    "_ = ax.set_xlabel(\"Number of sites visited\")"
   ]
  },
  {
   "cell_type": "markdown",
   "id": "f5fd1494-e5c6-4b51-87d3-6158c7564f5a",
   "metadata": {},
   "source": [
    "- Joe has the same distribution of number of sites visited than the average user."
   ]
  },
  {
   "cell_type": "markdown",
   "id": "7dbed1a6-ec37-49ca-a106-c9c3680ab343",
   "metadata": {},
   "source": [
    "## Users"
   ]
  },
  {
   "cell_type": "code",
   "execution_count": 27,
   "id": "89eea92e-b5ea-4024-98c6-7311846da1e5",
   "metadata": {},
   "outputs": [
    {
     "name": "stdout",
     "output_type": "stream",
     "text": [
      "There are 200 unique users\n"
     ]
    }
   ],
   "source": [
    "n_users = len(sessions[\"user_id\"].unique())\n",
    "print(f\"There are {n_users} unique users\")"
   ]
  },
  {
   "cell_type": "markdown",
   "id": "3f54f95b-e202-4506-aea4-7c04687d2f2c",
   "metadata": {},
   "source": [
    "All users have 800 sessions recorded:"
   ]
  },
  {
   "cell_type": "code",
   "execution_count": 28,
   "id": "cdcd2033-1440-4f41-a643-067a7e39b2b7",
   "metadata": {},
   "outputs": [
    {
     "data": {
      "text/plain": [
       "0      800\n",
       "1      800\n",
       "2      800\n",
       "3      800\n",
       "4      800\n",
       "      ... \n",
       "195    800\n",
       "196    800\n",
       "197    800\n",
       "198    800\n",
       "199    800\n",
       "Name: user_id, Length: 200, dtype: int64"
      ]
     },
     "execution_count": 28,
     "metadata": {},
     "output_type": "execute_result"
    }
   ],
   "source": [
    "sessions[\"user_id\"].value_counts().sort_index()"
   ]
  },
  {
   "cell_type": "code",
   "execution_count": 29,
   "id": "81b4a4aa-4905-4250-97ce-75177144c097",
   "metadata": {},
   "outputs": [
    {
     "data": {
      "text/plain": [
       "True"
      ]
     },
     "execution_count": 29,
     "metadata": {},
     "output_type": "execute_result"
    }
   ],
   "source": [
    "(sessions[\"user_id\"].value_counts() == 800).all()"
   ]
  }
 ],
 "metadata": {
  "kernelspec": {
   "display_name": "Python 3 (ipykernel)",
   "language": "python",
   "name": "python3"
  },
  "language_info": {
   "codemirror_mode": {
    "name": "ipython",
    "version": 3
   },
   "file_extension": ".py",
   "mimetype": "text/x-python",
   "name": "python",
   "nbconvert_exporter": "python",
   "pygments_lexer": "ipython3",
   "version": "3.9.12"
  }
 },
 "nbformat": 4,
 "nbformat_minor": 5
}
